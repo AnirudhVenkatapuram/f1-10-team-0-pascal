{
 "cells": [
  {
   "cell_type": "code",
   "execution_count": null,
   "metadata": {},
   "outputs": [],
   "source": [
    "# Import necessary libraries\n",
    "import rospy\n",
    "import os\n",
    "import sys\n",
    "import csv\n",
    "import math\n",
    "import tf\n",
    "import numpy as np\n",
    "from copy import deepcopy\n",
    "\n",
    "from ackermann_msgs.msg import AckermannDrive\n",
    "from geometry_msgs.msg import PolygonStamped\n",
    "from geometry_msgs.msg import Point32\n",
    "from geometry_msgs.msg import PoseStamped\n",
    "from visualization_msgs.msg import Marker\n",
    "\n",
    "from sensor_msgs.msg import LaserScan\n",
    "from utils import *"
   ]
  },
  {
   "cell_type": "code",
   "execution_count": null,
   "metadata": {},
   "outputs": [],
   "source": [
    "def load_path(path_name):\n",
    "    # Function to construct the path from a CSV file\n",
    "    # TODO: Modify this path to match the folder where the csv file containing the path is located.\n",
    "    my_plan = []\n",
    "    file_path = os.path.expanduser('/home/nvidia/catkin_ws/src/f1tenth_purepursuit/path/{}.csv'.format(path_name))\n",
    "    with open(file_path) as csv_file:\n",
    "        csv_reader = csv.reader(csv_file, delimiter = ',')\n",
    "        for waypoint in csv_reader:\n",
    "            my_plan.append(waypoint)\n",
    "\n",
    "    # Convert string coordinates to floats and calculate path resolution\n",
    "    for index in range(0, len(my_plan)):\n",
    "        print(\"row size\", len(my_plan[index]), my_plan[index])\n",
    "        for point in range(0, len(my_plan[index])):\n",
    "            my_plan[index][point] = float(my_plan[index][point])\n",
    "\n",
    "    return my_plan\n",
    "\n",
    "load_path(\"combined\")"
   ]
  }
 ],
 "metadata": {
  "language_info": {
   "name": "python"
  }
 },
 "nbformat": 4,
 "nbformat_minor": 2
}
